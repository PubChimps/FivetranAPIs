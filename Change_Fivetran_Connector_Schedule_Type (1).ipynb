{
  "nbformat": 4,
  "nbformat_minor": 0,
  "metadata": {
    "colab": {
      "name": "Change Fivetran Connector Schedule Type.ipynb",
      "provenance": []
    },
    "kernelspec": {
      "name": "python3",
      "display_name": "Python 3"
    },
    "language_info": {
      "name": "python"
    }
  },
  "cells": [
    {
      "cell_type": "code",
      "execution_count": null,
      "metadata": {
        "id": "Stzw6jtpOl2q"
      },
      "outputs": [],
      "source": [
        "import json\n",
        "import requests\n",
        "\n",
        "api_key = 'YOUR API KEY'\n",
        "api_secret = 'YOUR API SECRET'\n",
        "connector_id = 'YOUR CONNECTOR ID'\n",
        "\n",
        "url = \"https://api.fivetran.com/v1/connectors/\" + connector_id"
      ]
    },
    {
      "cell_type": "code",
      "source": [
        "def set_schedule(connector_id, type):\n",
        "        auth = (api_key, api_secret)\n",
        "        headers = {\"Content-Type\": \"application/json;version=2\"}\n",
        "        requests.patch(\n",
        "            url,\n",
        "            data=json.dumps({\"schedule_type\": type}),\n",
        "            auth=auth,\n",
        "            headers=headers\n",
        "        )\n",
        "        return json.dumps(requests.get(\n",
        "            url,\n",
        "            auth=auth\n",
        "        ).json())"
      ],
      "metadata": {
        "id": "3gayydugPE2x"
      },
      "execution_count": null,
      "outputs": []
    },
    {
      "cell_type": "code",
      "source": [
        "set_schedule(connector_id,'auto')"
      ],
      "metadata": {
        "id": "hADbKbozPdN-"
      },
      "execution_count": null,
      "outputs": []
    }
  ]
}