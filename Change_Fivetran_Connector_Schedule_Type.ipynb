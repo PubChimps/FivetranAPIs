{
  "nbformat": 4,
  "nbformat_minor": 0,
  "metadata": {
    "colab": {
      "name": "Change Fivetran Connector Schedule Type.ipynb",
      "provenance": []
    },
    "kernelspec": {
      "name": "python3",
      "display_name": "Python 3"
    },
    "language_info": {
      "name": "python"
    }
  },
  "cells": [
    {
      "cell_type": "code",
      "execution_count": 1,
      "metadata": {
        "id": "Stzw6jtpOl2q"
      },
      "outputs": [],
      "source": [
        "import json\n",
        "import requests\n",
        "\n",
        "api_key = 'YOUR API KEY'\n",
        "api_secret = 'YOUR API SECRET'\n",
        "connector_id = 'YOUR CONNECTOR ID'\n",
        "\n",
        "url = \"https://api.fivetran.com/v1/connectors/\" + connector_id"
      ]
    },
    {
      "cell_type": "code",
      "source": [
        "def set_schedule(connector_id, type):\n",
        "        auth = (api_key, api_secret)\n",
        "        headers = {\"Content-Type\": \"application/json;version=2\"}\n",
        "        requests.patch(\n",
        "            url,\n",
        "            data=json.dumps({\"schedule_type\": type}),\n",
        "            auth=auth,\n",
        "            headers=headers\n",
        "        )\n",
        "        return json.dumps(requests.get(\n",
        "            url,\n",
        "            auth=auth\n",
        "        ).json())"
      ],
      "metadata": {
        "id": "3gayydugPE2x"
      },
      "execution_count": 2,
      "outputs": []
    },
    {
      "cell_type": "code",
      "source": [
        "set_schedule(connector_id,'auto')"
      ],
      "metadata": {
        "id": "hADbKbozPdN-",
        "colab": {
          "base_uri": "https://localhost:8080/",
          "height": 87
        },
        "outputId": "2f635565-bc5b-43ee-8767-e6650264d87b"
      },
      "execution_count": 3,
      "outputs": [
        {
          "output_type": "execute_result",
          "data": {
            "application/vnd.google.colaboratory.intrinsic+json": {
              "type": "string"
            },
            "text/plain": [
              "'{\"code\": \"Success\", \"data\": {\"id\": \"declivity_crisped\", \"group_id\": \"attracting_scorching\", \"service\": \"google_sheets\", \"service_version\": 1, \"schema\": \"nick.airflow\", \"connected_by\": \"activism_profoundly\", \"created_at\": \"2021-02-04T18:00:31.027537Z\", \"succeeded_at\": \"2022-01-05T21:58:16.776495Z\", \"failed_at\": \"2021-12-30T03:06:49.080988Z\", \"paused\": false, \"pause_after_trial\": false, \"sync_frequency\": 1440, \"schedule_type\": \"auto\", \"status\": {\"setup_state\": \"connected\", \"sync_state\": \"scheduled\", \"update_state\": \"on_schedule\", \"is_historical_sync\": false, \"tasks\": [], \"warnings\": []}, \"config\": {\"sheet_id\": \"https://docs.google.com/spreadsheets/d/16WQvhUsZVjCCbLKuIExnA3vNd7tuKfTlfalX8ekFjGo/edit#gid=2055846535\", \"named_range\": \"fivetran_test_range\", \"authorization_method\": \"User OAuth\", \"last_synced_changes__utc_\": \"2022-01-05 21:57\"}}}'"
            ]
          },
          "metadata": {},
          "execution_count": 3
        }
      ]
    }
  ]
}