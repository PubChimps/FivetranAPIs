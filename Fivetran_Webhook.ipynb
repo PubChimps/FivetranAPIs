{
  "nbformat": 4,
  "nbformat_minor": 0,
  "metadata": {
    "colab": {
      "provenance": []
    },
    "kernelspec": {
      "name": "python3",
      "display_name": "Python 3"
    },
    "language_info": {
      "name": "python"
    }
  },
  "cells": [
    {
      "cell_type": "code",
      "execution_count": 1,
      "metadata": {
        "id": "hzmV5sPE7fC8"
      },
      "outputs": [],
      "source": [
        "import json\n",
        "import requests\n",
        "import time"
      ]
    },
    {
      "cell_type": "code",
      "source": [
        "API_KEY = \"YOUR API KEY\"            # found at https://fivetran.com/account/settings/account\n",
        "API_SECRET = \"YOUR API SECRET\"\n",
        "group_id = \"myth_grieving\"          # Destination Group ID found at https://fivetran.com/dashboard/warehouse\n",
        "connector_id = \"YOUR CONNECTOR ID\"  # a connector in the group to monitor with webhooks"
      ],
      "metadata": {
        "id": "ENf5G0y_7lhL"
      },
      "execution_count": 13,
      "outputs": []
    },
    {
      "cell_type": "code",
      "source": [
        "headers = {\n",
        "  \"Content-Type\": \"application/json\",\n",
        "  \"Accept\": \"application/json\"\n",
        "}\n",
        "\n",
        "payload = {\n",
        "  \"url\": \"YOUR WEBHOOK ADDRESS\", # guide on setting up a webhook server here https://github.com/fivetran-jimmyhooker/fivetran-webhook-example-express-js\n",
        "  \"events\": [\n",
        "    \"sync_start\",\n",
        "    \"sync_end\"\n",
        "  ],\n",
        "  \"active\": True,\n",
        "}\n",
        "\n",
        "response = requests.post(\"https://api.fivetran.com/v1/webhooks/group/\" + group_id, json=payload, headers=headers, auth=(API_KEY,API_SECRET))\n"
      ],
      "metadata": {
        "id": "WDq4SF-n7vhH"
      },
      "execution_count": 11,
      "outputs": []
    },
    {
      "cell_type": "code",
      "source": [
        "response.json()"
      ],
      "metadata": {
        "id": "MdW1lUGTvNyJ"
      },
      "execution_count": null,
      "outputs": []
    },
    {
      "cell_type": "code",
      "source": [
        "# force connector in group with webhook to sync, it's start and finish will be picked up\n",
        "print(requests.post(\"https://api.fivetran.com/v1/connectors/\" + connector_id + \"/sync\", headers=headers, auth=(API_KEY,API_SECRET)).json())"
      ],
      "metadata": {
        "id": "dZTu89YmUTqD"
      },
      "execution_count": null,
      "outputs": []
    },
    {
      "cell_type": "code",
      "source": [
        "webhook_id = \"YOUR WEBHOOK ID\" # ID is in output response from prev block, to delete\n",
        "\n",
        "requests.delete(\"https://api.fivetran.com/v1/webhooks/\" + webhook_id, headers=headers, auth=(API_KEY,API_SECRET))"
      ],
      "metadata": {
        "id": "KU7uPa2AxmM4"
      },
      "execution_count": null,
      "outputs": []
    }
  ]
}